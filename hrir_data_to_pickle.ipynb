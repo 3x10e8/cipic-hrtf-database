{
 "cells": [
  {
   "cell_type": "code",
   "execution_count": 37,
   "id": "910d47b5",
   "metadata": {},
   "outputs": [],
   "source": [
    "import os\n",
    "from scipy.io import loadmat\n",
    "\n",
    "import glob\n",
    "mat_files = glob.glob('**/*.mat', recursive=True)\n",
    "# print(mat_files)"
   ]
  },
  {
   "cell_type": "markdown",
   "id": "5777a144",
   "metadata": {},
   "source": [
    "# Recursively Load .mat Files \n",
    "Store loadmat() results into a data dict keyed by sub-folders leading to any given .mat file"
   ]
  },
  {
   "cell_type": "code",
   "execution_count": 42,
   "id": "9607ad8c",
   "metadata": {},
   "outputs": [],
   "source": [
    "# Utility code from\n",
    "# https://stackoverflow.com/a/14692747\n",
    "from functools import reduce  # forward compatibility for Python 3\n",
    "import operator\n",
    "\n",
    "def getFromDict(dataDict, mapList):\n",
    "    return reduce(operator.getitem, mapList, dataDict)\n",
    "\n",
    "def setInDict(dataDict, mapList, value):\n",
    "    getFromDict(dataDict, mapList[:-1])[mapList[-1]] = value\n",
    "\n",
    "# convert all mat filepaths to a nested data dictionary\n",
    "data = {}\n",
    "for mat_file_path in mat_files:\n",
    "    \n",
    "    tokens = mat_file_path.split('/')\n",
    "    filename = tokens[-1].rstrip('.mat') # filename of the .mat data file\n",
    "    # print(tokens[:-1], filename)\n",
    "\n",
    "    try: # try adding the parsed .mat file to the data dict\n",
    "        setInDict(data, tokens[:-1], loadmat(mat_file_path))\n",
    "    except KeyError: # make an empty dict first!\n",
    "        setInDict(data, tokens[:-2], {})"
   ]
  },
  {
   "cell_type": "markdown",
   "id": "669e6d36",
   "metadata": {},
   "source": [
    "# Pickled Data"
   ]
  },
  {
   "cell_type": "code",
   "execution_count": 49,
   "id": "b03779c5",
   "metadata": {},
   "outputs": [],
   "source": [
    "# from https://stackoverflow.com/a/11218504\n",
    "import pickle\n",
    "\n",
    "with open(\"cipic_database.pickle\", \"wb\") as handle:\n",
    "    pickle.dump(data, handle) #, protocol=pickle.HIGHEST_PROTOCOL)"
   ]
  },
  {
   "cell_type": "code",
   "execution_count": 53,
   "id": "acd4b4dc",
   "metadata": {},
   "outputs": [
    {
     "ename": "ValueError",
     "evalue": "The truth value of an array with more than one element is ambiguous. Use a.any() or a.all()",
     "output_type": "error",
     "traceback": [
      "\u001b[0;31m---------------------------------------------------------------------------\u001b[0m",
      "\u001b[0;31mValueError\u001b[0m                                Traceback (most recent call last)",
      "Input \u001b[0;32mIn [53]\u001b[0m, in \u001b[0;36m<cell line: 4>\u001b[0;34m()\u001b[0m\n\u001b[1;32m      1\u001b[0m \u001b[38;5;28;01mwith\u001b[39;00m \u001b[38;5;28mopen\u001b[39m(\u001b[38;5;124m\"\u001b[39m\u001b[38;5;124mcipic_database.pickle\u001b[39m\u001b[38;5;124m\"\u001b[39m, \u001b[38;5;124m\"\u001b[39m\u001b[38;5;124mrb\u001b[39m\u001b[38;5;124m\"\u001b[39m) \u001b[38;5;28;01mas\u001b[39;00m handle:\n\u001b[1;32m      2\u001b[0m     data_unpickled \u001b[38;5;241m=\u001b[39m pickle\u001b[38;5;241m.\u001b[39mload(handle)\n\u001b[0;32m----> 4\u001b[0m \u001b[38;5;28mprint\u001b[39m(\u001b[43mdata_unpickled\u001b[49m\u001b[43m \u001b[49m\u001b[38;5;241;43m==\u001b[39;49m\u001b[43m \u001b[49m\u001b[43mdata\u001b[49m)\n",
      "\u001b[0;31mValueError\u001b[0m: The truth value of an array with more than one element is ambiguous. Use a.any() or a.all()"
     ]
    }
   ],
   "source": [
    "with open(\"cipic_database.pickle\", \"rb\") as handle:\n",
    "    data_unpickled = pickle.load(handle)\n",
    "\n",
    "print(data_unpickled == data)\n",
    "# Why does this give a ValueError?"
   ]
  },
  {
   "cell_type": "code",
   "execution_count": null,
   "id": "1d1806b6",
   "metadata": {},
   "outputs": [],
   "source": []
  }
 ],
 "metadata": {
  "kernelspec": {
   "display_name": "Python 3 (ipykernel)",
   "language": "python",
   "name": "python3"
  },
  "language_info": {
   "codemirror_mode": {
    "name": "ipython",
    "version": 3
   },
   "file_extension": ".py",
   "mimetype": "text/x-python",
   "name": "python",
   "nbconvert_exporter": "python",
   "pygments_lexer": "ipython3",
   "version": "3.9.12"
  }
 },
 "nbformat": 4,
 "nbformat_minor": 5
}
